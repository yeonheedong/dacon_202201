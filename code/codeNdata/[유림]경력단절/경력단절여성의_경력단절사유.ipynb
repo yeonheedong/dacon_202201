{
 "cells": [
  {
   "cell_type": "code",
   "execution_count": 40,
   "metadata": {
    "colab": {
     "base_uri": "https://localhost:8080/",
     "height": 1000
    },
    "id": "rXuDjLBZVile",
    "outputId": "2c0e83b0-18b8-4105-f26c-e0d4ff6d6703"
   },
   "outputs": [],
   "source": [
    "import pandas as pd\n",
    "import numpy as np\n",
    "import seaborn as sns\n",
    "import matplotlib.pyplot as plt\n",
    "plt.rc('font', family='NanumGothic')\n",
    "\n",
    "df = pd.read_csv('경력단절여성의 경력단절 사유.csv',encoding='cp949')"
   ]
  },
  {
   "cell_type": "code",
   "execution_count": 41,
   "metadata": {
    "colab": {
     "base_uri": "https://localhost:8080/",
     "height": 600
    },
    "id": "I8YEx8-2XNcE",
    "outputId": "27e0f80f-48d2-40dc-8928-3d853082b635"
   },
   "outputs": [],
   "source": [
    "df=df.loc[[3,5,7,9,11],'구분별':'2021 년']"
   ]
  },
  {
   "cell_type": "code",
   "execution_count": 42,
   "metadata": {
    "colab": {
     "base_uri": "https://localhost:8080/",
     "height": 600
    },
    "id": "1kyH9hBnb_dX",
    "outputId": "d36b5fea-3a30-4472-b5a2-a10ec14da6f1"
   },
   "outputs": [
    {
     "data": {
      "text/html": [
       "<div>\n",
       "<style scoped>\n",
       "    .dataframe tbody tr th:only-of-type {\n",
       "        vertical-align: middle;\n",
       "    }\n",
       "\n",
       "    .dataframe tbody tr th {\n",
       "        vertical-align: top;\n",
       "    }\n",
       "\n",
       "    .dataframe thead th {\n",
       "        text-align: right;\n",
       "    }\n",
       "</style>\n",
       "<table border=\"1\" class=\"dataframe\">\n",
       "  <thead>\n",
       "    <tr style=\"text-align: right;\">\n",
       "      <th></th>\n",
       "      <th>구분별</th>\n",
       "      <th>2011 년</th>\n",
       "      <th>2012 년</th>\n",
       "      <th>2013 년</th>\n",
       "      <th>2014 년</th>\n",
       "      <th>2015 년</th>\n",
       "      <th>2016 년</th>\n",
       "      <th>2017 년</th>\n",
       "      <th>2018 년</th>\n",
       "      <th>2019 년</th>\n",
       "      <th>2020 년</th>\n",
       "      <th>2021 년</th>\n",
       "    </tr>\n",
       "  </thead>\n",
       "  <tbody>\n",
       "    <tr>\n",
       "      <th>3</th>\n",
       "      <td>결혼준비</td>\n",
       "      <td>47.09548</td>\n",
       "      <td>46.96176</td>\n",
       "      <td>45.98391</td>\n",
       "      <td>38.53626</td>\n",
       "      <td>36.97517</td>\n",
       "      <td>34.70394</td>\n",
       "      <td>34.57107</td>\n",
       "      <td>34.35162</td>\n",
       "      <td>30.74843</td>\n",
       "      <td>27.51544</td>\n",
       "      <td>27.4</td>\n",
       "    </tr>\n",
       "    <tr>\n",
       "      <th>5</th>\n",
       "      <td>임신, 출산</td>\n",
       "      <td>19.98104</td>\n",
       "      <td>24.14181</td>\n",
       "      <td>21.09598</td>\n",
       "      <td>20.34638</td>\n",
       "      <td>24.33574</td>\n",
       "      <td>26.23454</td>\n",
       "      <td>24.76526</td>\n",
       "      <td>24.07059</td>\n",
       "      <td>22.61902</td>\n",
       "      <td>21.32797</td>\n",
       "      <td>22.1</td>\n",
       "    </tr>\n",
       "    <tr>\n",
       "      <th>7</th>\n",
       "      <td>자녀교육(초등학생)</td>\n",
       "      <td>4.28438</td>\n",
       "      <td>4.01689</td>\n",
       "      <td>3.71676</td>\n",
       "      <td>4.35022</td>\n",
       "      <td>3.93103</td>\n",
       "      <td>4.18634</td>\n",
       "      <td>4.18182</td>\n",
       "      <td>3.83391</td>\n",
       "      <td>4.05551</td>\n",
       "      <td>4.11728</td>\n",
       "      <td>3.8</td>\n",
       "    </tr>\n",
       "    <tr>\n",
       "      <th>9</th>\n",
       "      <td>가족돌봄</td>\n",
       "      <td>NaN</td>\n",
       "      <td>NaN</td>\n",
       "      <td>NaN</td>\n",
       "      <td>7.57614</td>\n",
       "      <td>4.95258</td>\n",
       "      <td>4.82253</td>\n",
       "      <td>4.47984</td>\n",
       "      <td>4.23951</td>\n",
       "      <td>4.39335</td>\n",
       "      <td>4.56128</td>\n",
       "      <td>3.4</td>\n",
       "    </tr>\n",
       "    <tr>\n",
       "      <th>11</th>\n",
       "      <td>육아</td>\n",
       "      <td>28.63909</td>\n",
       "      <td>24.87954</td>\n",
       "      <td>29.20336</td>\n",
       "      <td>29.19101</td>\n",
       "      <td>29.80548</td>\n",
       "      <td>30.05265</td>\n",
       "      <td>32.00201</td>\n",
       "      <td>33.50437</td>\n",
       "      <td>38.18368</td>\n",
       "      <td>42.47804</td>\n",
       "      <td>43.3</td>\n",
       "    </tr>\n",
       "  </tbody>\n",
       "</table>\n",
       "</div>"
      ],
      "text/plain": [
       "           구분별    2011 년    2012 년    2013 년    2014 년    2015 년    2016 년  \\\n",
       "3         결혼준비  47.09548  46.96176  45.98391  38.53626  36.97517  34.70394   \n",
       "5       임신, 출산  19.98104  24.14181  21.09598  20.34638  24.33574  26.23454   \n",
       "7   자녀교육(초등학생)   4.28438   4.01689   3.71676   4.35022   3.93103   4.18634   \n",
       "9         가족돌봄       NaN       NaN       NaN   7.57614   4.95258   4.82253   \n",
       "11          육아  28.63909  24.87954  29.20336  29.19101  29.80548  30.05265   \n",
       "\n",
       "      2017 년    2018 년    2019 년    2020 년  2021 년  \n",
       "3   34.57107  34.35162  30.74843  27.51544    27.4  \n",
       "5   24.76526  24.07059  22.61902  21.32797    22.1  \n",
       "7    4.18182   3.83391   4.05551   4.11728     3.8  \n",
       "9    4.47984   4.23951   4.39335   4.56128     3.4  \n",
       "11  32.00201  33.50437  38.18368  42.47804    43.3  "
      ]
     },
     "execution_count": 42,
     "metadata": {},
     "output_type": "execute_result"
    }
   ],
   "source": [
    "df = df.drop(['항목','단위'], axis=1)"
   ]
  },
  {
   "cell_type": "code",
   "execution_count": 43,
   "metadata": {
    "id": "A46oDAeufaOa"
   },
   "outputs": [],
   "source": [
    "df=df.T"
   ]
  },
  {
   "cell_type": "code",
   "execution_count": 44,
   "metadata": {
    "colab": {
     "base_uri": "https://localhost:8080/",
     "height": 426
    },
    "id": "XmyfYlirfcPi",
    "outputId": "a581b0f5-eebd-40fd-f2c6-535b1442b3b5"
   },
   "outputs": [],
   "source": [
    "df.columns=['결혼준비','임신,출산','자녀교육(초등학생)','가족돌봄','육아']"
   ]
  },
  {
   "cell_type": "code",
   "execution_count": 45,
   "metadata": {
    "id": "5Echl_0_gXcW"
   },
   "outputs": [],
   "source": [
    "df = df.drop('구분별',axis=0)"
   ]
  },
  {
   "cell_type": "code",
   "execution_count": 46,
   "metadata": {
    "colab": {
     "base_uri": "https://localhost:8080/",
     "height": 394
    },
    "id": "8HSJZOakgzX5",
    "outputId": "86aee44d-9c91-4b0d-bd47-3bf3cf78fa0d"
   },
   "outputs": [],
   "source": [
    "df = df.reset_index()"
   ]
  },
  {
   "cell_type": "code",
   "execution_count": 47,
   "metadata": {
    "colab": {
     "base_uri": "https://localhost:8080/",
     "height": 394
    },
    "id": "ACYXWBB-g3P5",
    "outputId": "47208593-fe85-4105-e893-8e2d8a384bad"
   },
   "outputs": [
    {
     "data": {
      "text/html": [
       "<div>\n",
       "<style scoped>\n",
       "    .dataframe tbody tr th:only-of-type {\n",
       "        vertical-align: middle;\n",
       "    }\n",
       "\n",
       "    .dataframe tbody tr th {\n",
       "        vertical-align: top;\n",
       "    }\n",
       "\n",
       "    .dataframe thead th {\n",
       "        text-align: right;\n",
       "    }\n",
       "</style>\n",
       "<table border=\"1\" class=\"dataframe\">\n",
       "  <thead>\n",
       "    <tr style=\"text-align: right;\">\n",
       "      <th></th>\n",
       "      <th>연도</th>\n",
       "      <th>결혼준비</th>\n",
       "      <th>임신,출산</th>\n",
       "      <th>자녀교육(초등학생)</th>\n",
       "      <th>가족돌봄</th>\n",
       "      <th>육아</th>\n",
       "    </tr>\n",
       "  </thead>\n",
       "  <tbody>\n",
       "    <tr>\n",
       "      <th>0</th>\n",
       "      <td>2011 년</td>\n",
       "      <td>47.09548</td>\n",
       "      <td>19.98104</td>\n",
       "      <td>4.28438</td>\n",
       "      <td>NaN</td>\n",
       "      <td>28.63909</td>\n",
       "    </tr>\n",
       "    <tr>\n",
       "      <th>1</th>\n",
       "      <td>2012 년</td>\n",
       "      <td>46.96176</td>\n",
       "      <td>24.14181</td>\n",
       "      <td>4.01689</td>\n",
       "      <td>NaN</td>\n",
       "      <td>24.87954</td>\n",
       "    </tr>\n",
       "    <tr>\n",
       "      <th>2</th>\n",
       "      <td>2013 년</td>\n",
       "      <td>45.98391</td>\n",
       "      <td>21.09598</td>\n",
       "      <td>3.71676</td>\n",
       "      <td>NaN</td>\n",
       "      <td>29.20336</td>\n",
       "    </tr>\n",
       "    <tr>\n",
       "      <th>3</th>\n",
       "      <td>2014 년</td>\n",
       "      <td>38.53626</td>\n",
       "      <td>20.34638</td>\n",
       "      <td>4.35022</td>\n",
       "      <td>7.57614</td>\n",
       "      <td>29.19101</td>\n",
       "    </tr>\n",
       "    <tr>\n",
       "      <th>4</th>\n",
       "      <td>2015 년</td>\n",
       "      <td>36.97517</td>\n",
       "      <td>24.33574</td>\n",
       "      <td>3.93103</td>\n",
       "      <td>4.95258</td>\n",
       "      <td>29.80548</td>\n",
       "    </tr>\n",
       "    <tr>\n",
       "      <th>5</th>\n",
       "      <td>2016 년</td>\n",
       "      <td>34.70394</td>\n",
       "      <td>26.23454</td>\n",
       "      <td>4.18634</td>\n",
       "      <td>4.82253</td>\n",
       "      <td>30.05265</td>\n",
       "    </tr>\n",
       "    <tr>\n",
       "      <th>6</th>\n",
       "      <td>2017 년</td>\n",
       "      <td>34.57107</td>\n",
       "      <td>24.76526</td>\n",
       "      <td>4.18182</td>\n",
       "      <td>4.47984</td>\n",
       "      <td>32.00201</td>\n",
       "    </tr>\n",
       "    <tr>\n",
       "      <th>7</th>\n",
       "      <td>2018 년</td>\n",
       "      <td>34.35162</td>\n",
       "      <td>24.07059</td>\n",
       "      <td>3.83391</td>\n",
       "      <td>4.23951</td>\n",
       "      <td>33.50437</td>\n",
       "    </tr>\n",
       "    <tr>\n",
       "      <th>8</th>\n",
       "      <td>2019 년</td>\n",
       "      <td>30.74843</td>\n",
       "      <td>22.61902</td>\n",
       "      <td>4.05551</td>\n",
       "      <td>4.39335</td>\n",
       "      <td>38.18368</td>\n",
       "    </tr>\n",
       "    <tr>\n",
       "      <th>9</th>\n",
       "      <td>2020 년</td>\n",
       "      <td>27.51544</td>\n",
       "      <td>21.32797</td>\n",
       "      <td>4.11728</td>\n",
       "      <td>4.56128</td>\n",
       "      <td>42.47804</td>\n",
       "    </tr>\n",
       "    <tr>\n",
       "      <th>10</th>\n",
       "      <td>2021 년</td>\n",
       "      <td>27.4</td>\n",
       "      <td>22.1</td>\n",
       "      <td>3.8</td>\n",
       "      <td>3.4</td>\n",
       "      <td>43.3</td>\n",
       "    </tr>\n",
       "  </tbody>\n",
       "</table>\n",
       "</div>"
      ],
      "text/plain": [
       "        연도      결혼준비     임신,출산 자녀교육(초등학생)     가족돌봄        육아\n",
       "0   2011 년  47.09548  19.98104    4.28438      NaN  28.63909\n",
       "1   2012 년  46.96176  24.14181    4.01689      NaN  24.87954\n",
       "2   2013 년  45.98391  21.09598    3.71676      NaN  29.20336\n",
       "3   2014 년  38.53626  20.34638    4.35022  7.57614  29.19101\n",
       "4   2015 년  36.97517  24.33574    3.93103  4.95258  29.80548\n",
       "5   2016 년  34.70394  26.23454    4.18634  4.82253  30.05265\n",
       "6   2017 년  34.57107  24.76526    4.18182  4.47984  32.00201\n",
       "7   2018 년  34.35162  24.07059    3.83391  4.23951  33.50437\n",
       "8   2019 년  30.74843  22.61902    4.05551  4.39335  38.18368\n",
       "9   2020 년  27.51544  21.32797    4.11728  4.56128  42.47804\n",
       "10  2021 년      27.4      22.1        3.8      3.4      43.3"
      ]
     },
     "execution_count": 47,
     "metadata": {},
     "output_type": "execute_result"
    }
   ],
   "source": [
    "df=df.rename(columns={'index':'연도'})"
   ]
  },
  {
   "cell_type": "code",
   "execution_count": 48,
   "metadata": {
    "id": "BqULu5Toh7ED"
   },
   "outputs": [],
   "source": [
    "import platform\n",
    "if platform.system() == 'Darwin': #맥\n",
    "        plt.rc('font', family='AppleGothic') \n",
    "elif platform.system() == 'Windows': #윈도우\n",
    "        plt.rc('font', family='Malgun Gothic') \n",
    "elif platform.system() == 'Linux': #리눅스 (구글 콜랩)\n",
    "        #!wget \"https://www.wfonts.com/download/data/2016/06/13/malgun-gothic/malgun.ttf\"\n",
    "        #!mv malgun.ttf /usr/share/fonts/truetype/\n",
    "        #import matplotlib.font_manager as fm \n",
    "        #fm._rebuild() \n",
    "        plt.rc('font', family='Malgun Gothic') \n",
    "plt.rcParams['axes.unicode_minus'] = False #한글 폰트 사용시 마이너스 폰트 깨짐 해결"
   ]
  },
  {
   "cell_type": "code",
   "execution_count": 49,
   "metadata": {
    "colab": {
     "base_uri": "https://localhost:8080/",
     "height": 1000
    },
    "id": "G_xLZ0bSaJvd",
    "outputId": "94e6b915-d7fe-486e-9195-2ebbbbd9d1dd",
    "scrolled": true
   },
   "outputs": [
    {
     "data": {
      "image/png": "[encoded data removed]",
      "text/plain": [
       "<Figure size 864x576 with 1 Axes>"
      ]
     },
     "metadata": {
      "needs_background": "light"
     },
     "output_type": "display_data"
    }
   ],
   "source": [
    "plt.rcParams['figure.figsize'] = [12, 8]\n",
    "plt.plot(df['연도'], df['결혼준비'], marker='s', color='r', label='결혼준비')\n",
    "plt.plot(df['연도'], df['임신,출산'], marker='o', color='g', label='임신,출산')\n",
    "plt.plot(df['연도'], df['자녀교육(초등학생)'], marker='*', color='b', label='자녀교육(초등학생)')\n",
    "plt.plot(df['연도'], df['가족돌봄'], marker='+', color='y', label='가족돌봄')\n",
    "plt.plot(df['연도'], df['육아'], marker='+', color='violet', label='육아')\n",
    "\n",
    "plt.title('경력단절여성의 경력단절 사유(%/년)', fontsize=10) \n",
    "plt.ylabel('비율', fontsize=10)\n",
    "plt.xlabel('연도', fontsize=10)\n",
    "plt.legend(fontsize=10, loc='best')\n",
    "\n",
    "plt.savefig('경력단절여성의 경력단절 사유.png')"
   ]
  },
  {
   "cell_type": "code",
   "execution_count": null,
   "metadata": {
    "id": "WgJwDHWViBZ_"
   },
   "outputs": [],
   "source": []
  },
  {
   "cell_type": "code",
   "execution_count": null,
   "metadata": {},
   "outputs": [],
   "source": []
  }
 ],
 "metadata": {
  "colab": {
   "name": "경력단절여성의_경력단절사유.ipynb",
   "provenance": []
  },
  "kernelspec": {
   "display_name": "Python 3 (ipykernel)",
   "language": "python",
   "name": "python3"
  },
  "language_info": {
   "codemirror_mode": {
    "name": "ipython",
    "version": 3
   },
   "file_extension": ".py",
   "mimetype": "text/x-python",
   "name": "python",
   "nbconvert_exporter": "python",
   "pygments_lexer": "ipython3",
   "version": "3.9.7"
  }
 },
 "nbformat": 4,
 "nbformat_minor": 1
}
